{
 "cells": [
  {
   "attachments": {},
   "cell_type": "markdown",
   "id": "5ff77ca1",
   "metadata": {},
   "source": [
    "\"\"\" Pending tasks:  \n",
    "1) Add texture to the mesh\n",
    "2) Test reconstruction qualities for various hyperparamters of each reconstruction algorithm  \n",
    "\n",
    "Optional tasks:\n",
    "1) Include alpha_shapes reconstruction technique\n",
    "2) Understand difference between TetraMesh and Triangle mesh quality and processing times"
   ]
  },
  {
   "attachments": {},
   "cell_type": "markdown",
   "id": "37322f98",
   "metadata": {},
   "source": [
    "Sources: \n",
    "1) Surface reconstruction tutorial: https://towardsdatascience.com/5-step-guide-to-generate-3d-meshes-from-point-clouds-with-python-36bad397d8ba\n",
    "2) Open3D tutorials: https://www.youtube.com/playlist?list=PLkmvobsnE0GEZugH1Di2Cr_f32qYkv7aN \n",
    "3) Open3D: http://www.open3d.org/docs/release/index.html\n",
    "4) laspy: https://laspy.readthedocs.io/en/latest/"
   ]
  },
  {
   "attachments": {},
   "cell_type": "markdown",
   "id": "febbd598",
   "metadata": {},
   "source": [
    "## 1) Import Open3D and laspy"
   ]
  },
  {
   "cell_type": "code",
   "execution_count": 1,
   "id": "3ec8f911",
   "metadata": {},
   "outputs": [
    {
     "name": "stdout",
     "output_type": "stream",
     "text": [
      "Note: you may need to restart the kernel to use updated packages.\n"
     ]
    },
    {
     "name": "stderr",
     "output_type": "stream",
     "text": [
      "The filename, directory name, or volume label syntax is incorrect.\n"
     ]
    }
   ],
   "source": [
    "#%pip install laspy\n",
    "#%pip install open3d"
   ]
  },
  {
   "cell_type": "code",
   "execution_count": 1,
   "id": "152f51e2",
   "metadata": {},
   "outputs": [
    {
     "name": "stdout",
     "output_type": "stream",
     "text": [
      "Jupyter environment detected. Enabling Open3D WebVisualizer.\n",
      "[Open3D INFO] WebRTC GUI backend enabled.\n",
      "[Open3D INFO] WebRTCWindowSystem: HTTP handshake server disabled.\n"
     ]
    }
   ],
   "source": [
    "import numpy as np\n",
    "import open3d as o3d\n",
    "import plotly.graph_objects as go\n",
    "import pandas as pd\n",
    "import matplotlib.pyplot as plt\n",
    "\n",
    "#import wget -> In case you want to download point cloud and meshes from url's"
   ]
  },
  {
   "attachments": {},
   "cell_type": "markdown",
   "id": "b06d8214",
   "metadata": {},
   "source": [
    "## Special case of using a las file (preserves true coordinates for x,y,z)"
   ]
  },
  {
   "cell_type": "code",
   "execution_count": 2,
   "id": "5d78502e",
   "metadata": {},
   "outputs": [],
   "source": [
    "import laspy as lp\n",
    "\n",
    "las_file = \"point_cloud.las\"\n",
    "point_cloud = lp.read(las_file)"
   ]
  },
  {
   "cell_type": "code",
   "execution_count": 80,
   "id": "f4711cf9",
   "metadata": {},
   "outputs": [
    {
     "name": "stdout",
     "output_type": "stream",
     "text": [
      "File version is: 1.2\n",
      "Point format id: 3\n",
      "Includes the following dimensions: ['X', 'Y', 'Z', 'intensity', 'return_number', 'number_of_returns', 'scan_direction_flag', 'edge_of_flight_line', 'classification', 'synthetic', 'key_point', 'withheld', 'scan_angle_rank', 'user_data', 'point_source_id', 'gps_time', 'red', 'green', 'blue']\n",
      "Includes the following extra dimensions: []\n",
      "<GeoKeyDirectoryVlr(12 geo_keys)>\n",
      "<GeoDoubleParamsVlr([c_double(6378137.0), c_double(298.257223563), c_double(0.0)])>\n",
      "<GeoAsciiParamsVlr(['CGRS93 / Cyprus Local Transverse Mercator|GCS Name = CGRS93|Datum = unknown|Ellipsoid = unretrievable - using WGS84|Primem = Greenwich||', ''])>\n"
     ]
    }
   ],
   "source": [
    "def header_info(lasfile=point_cloud):\n",
    "    print(f\"File version is: {lasfile.header._version}\")\n",
    "    print(f\"Point format id: {lasfile.header.point_format.id}\")\n",
    "    print(f\"Includes the following dimensions: {[i for i in lasfile.header._point_format.dimension_names]}\")\n",
    "    print(f\"Includes the following extra dimensions: {[i for i in lasfile.header._point_format.extra_dimension_names]}\")\n",
    "\n",
    "def vlrs_info(lasfile=point_cloud):\n",
    "    [print(_) for _ in lasfile.vlrs]\n",
    "\n",
    "\n",
    "header_info(point_cloud)\n",
    "vlrs_info(point_cloud)\n"
   ]
  },
  {
   "cell_type": "code",
   "execution_count": 3,
   "id": "1654ef65",
   "metadata": {},
   "outputs": [],
   "source": [
    "points = np.vstack((point_cloud.x, point_cloud.y, point_cloud.z)).transpose()\n",
    "colors = np.vstack((point_cloud.red, point_cloud.green, point_cloud.blue)).transpose()\n",
    "\n",
    "las_pcd = o3d.geometry.PointCloud()\n",
    "las_pcd.points = o3d.utility.Vector3dVector(points)\n",
    "las_pcd.colors = o3d.utility.Vector3dVector(colors / 65535)"
   ]
  },
  {
   "cell_type": "code",
   "execution_count": 74,
   "id": "4a65d3d3",
   "metadata": {},
   "outputs": [],
   "source": [
    "def write_pointcloud(pcd=las_pcd, file_name = \"las_pcd.ply\"):\n",
    "    try:\n",
    "        o3d.io.write_point_cloud(filename = file_name, pointcloud=las_pcd) \n",
    "    except Exception as e:\n",
    "        print(e)"
   ]
  },
  {
   "cell_type": "code",
   "execution_count": 75,
   "id": "f29a5cf7",
   "metadata": {},
   "outputs": [],
   "source": [
    "write_pointcloud()"
   ]
  },
  {
   "attachments": {},
   "cell_type": "markdown",
   "id": "81d5fbd6",
   "metadata": {},
   "source": [
    "## 2) Load and read the point cloud"
   ]
  },
  {
   "attachments": {},
   "cell_type": "markdown",
   "id": "0c319530",
   "metadata": {},
   "source": [
    "### translating to correct coordiante system"
   ]
  },
  {
   "cell_type": "code",
   "execution_count": 103,
   "id": "e8a6eeac",
   "metadata": {},
   "outputs": [],
   "source": [
    "import math\n",
    "yaw = 30 # Example value\n",
    "cropped_pcd = o3d.io.read_point_cloud(\"./cropped_pointcloud.ply\", format=\"ply\")\n",
    "\n",
    "x = [_[0] for _ in np.asarray(cropped_pcd.points)]\n",
    "y = [_[1] for _ in np.asarray(cropped_pcd.points)]\n",
    "z = [_[2] for _ in np.asarray(cropped_pcd.points)]\n",
    "\n",
    "# original_x = x / math.acos(yaw) + y / math.asin(yaw)\n",
    "# original_y = -x / math.asin(yaw) + y / math.acos(yaw)"
   ]
  },
  {
   "cell_type": "code",
   "execution_count": 4,
   "id": "94dbd9ff",
   "metadata": {},
   "outputs": [
    {
     "name": "stdout",
     "output_type": "stream",
     "text": [
      "Point cloud dimensions (7828904, 3)\n",
      "First 5 datapoints:\n",
      "[[2.37511591e+05 3.90693672e+05 1.59812600e+02]\n",
      " [2.37514860e+05 3.90691483e+05 1.60057900e+02]\n",
      " [2.37514647e+05 3.90691871e+05 1.60180100e+02]\n",
      " [2.37512661e+05 3.90694604e+05 1.60139600e+02]\n",
      " [2.37515006e+05 3.90691411e+05 1.60182800e+02]]\n"
     ]
    }
   ],
   "source": [
    "file_name = \"las_pcd.ply\"\n",
    "original_pointcloud = o3d.io.read_point_cloud(file_name, format=\"ply\")\n",
    "pointcloud_array = np.asarray(original_pointcloud.points)\n",
    "\n",
    "n=5\n",
    "print(f\"Point cloud dimensions {pointcloud_array.shape}\")\n",
    "print(f\"First {n} datapoints:\")\n",
    "print(pointcloud_array[:n])\n"
   ]
  },
  {
   "attachments": {},
   "cell_type": "markdown",
   "id": "b2da4cbe",
   "metadata": {},
   "source": [
    "## 3) Voxel Downsampling our point cloud"
   ]
  },
  {
   "cell_type": "code",
   "execution_count": 5,
   "id": "1c627192",
   "metadata": {},
   "outputs": [
    {
     "name": "stdout",
     "output_type": "stream",
     "text": [
      "(46312, 3)\n",
      "Size reduced to 0.59% of original pointcloud\n",
      "[Open3D WARNING] GLFW Error: WGL: Failed to make context current: The requested transformation operation is not supported. \n"
     ]
    }
   ],
   "source": [
    "downsampled_pcd = original_pointcloud.voxel_down_sample(voxel_size=1.0)\n",
    "downsampled_array = np.asarray(downsampled_pcd.points)\n",
    "print(downsampled_array.shape)\n",
    "print(f\"Size reduced to {round(100 * downsampled_array.shape[0]/pointcloud_array.shape[0],2)}% of original pointcloud\")\n",
    "o3d.visualization.draw_geometries([downsampled_pcd])"
   ]
  },
  {
   "cell_type": "code",
   "execution_count": 83,
   "id": "c77dc24c",
   "metadata": {},
   "outputs": [],
   "source": [
    "#write_pointcloud(downsampled_array, \"compressed_las.ply\")"
   ]
  },
  {
   "attachments": {},
   "cell_type": "markdown",
   "id": "73ab2004",
   "metadata": {},
   "source": [
    "### Poisson disk sampling and uniform sampling (wont be used for now)"
   ]
  },
  {
   "cell_type": "code",
   "execution_count": null,
   "id": "1491de6f",
   "metadata": {},
   "outputs": [],
   "source": [
    "# pcd = mesh.sample_points_poisson_disk(number_of_points=100_000, init_factor=5)\n",
    "# o3d.visualization.draw_geometries([pcd])\n",
    "\n",
    "# pcd = mesh.sample_points_uniformly(number_of_points=2500)\n",
    "# o3d.visualization.draw_geometries([pcd]) "
   ]
  },
  {
   "attachments": {},
   "cell_type": "markdown",
   "id": "a9b4c716",
   "metadata": {},
   "source": [
    "## 4) Crop the point cloud"
   ]
  },
  {
   "cell_type": "code",
   "execution_count": 4,
   "id": "d4055880",
   "metadata": {},
   "outputs": [
    {
     "name": "stdout",
     "output_type": "stream",
     "text": [
      "Demo for manual geometry cropping\n",
      "1) Press 'Y' twice to align geometry with negative direction of y-axis\n",
      "2) Press 'K' to lock screen and to switch to selection mode\n",
      "3) Drag for rectangle selection,\n",
      "   or use ctrl + left click for polygon selection\n",
      "4) Press 'C' to get a selected geometry and to save it\n",
      "5) Press 'F' to switch to freeview mode\n"
     ]
    }
   ],
   "source": [
    "def demo_crop_geometry(pcd):\n",
    "    print(\"Demo for manual geometry cropping\")\n",
    "    print(\n",
    "        \"1) Press 'Y' twice to align geometry with negative direction of y-axis\"\n",
    "    )\n",
    "    print(\"2) Press 'K' to lock screen and to switch to selection mode\")\n",
    "    print(\"3) Drag for rectangle selection,\")\n",
    "    print(\"   or use ctrl + left click for polygon selection\")\n",
    "    print(\"4) Press 'C' to get a selected geometry and to save it\")\n",
    "    print(\"5) Press 'F' to switch to freeview mode\")\n",
    "    o3d.visualization.draw_geometries_with_editing([pcd])"
   ]
  },
  {
   "cell_type": "code",
   "execution_count": null,
   "id": "f5705e62",
   "metadata": {},
   "outputs": [],
   "source": [
    "#demo_crop_geometry(downsampled_pcd)"
   ]
  },
  {
   "attachments": {},
   "cell_type": "markdown",
   "id": "e228b7dd",
   "metadata": {},
   "source": [
    "## 5) Visualize cropped pointcloud"
   ]
  },
  {
   "cell_type": "code",
   "execution_count": 3,
   "id": "74da07f1",
   "metadata": {},
   "outputs": [
    {
     "name": "stdout",
     "output_type": "stream",
     "text": [
      "[Open3D WARNING] GLFW Error: WGL: Failed to make context current: The handle is invalid. \n",
      "[Open3D WARNING] GLFW Error: WGL: Failed to make context current: The handle is invalid. \n",
      "[Open3D WARNING] GLFW Error: WGL: Failed to make context current: The handle is invalid. \n",
      "[Open3D WARNING] GLFW Error: WGL: Failed to make context current: The handle is invalid. \n"
     ]
    }
   ],
   "source": [
    "cropped_pointcloud = o3d.io.read_point_cloud(\"./cropped_ucy.ply\", format=\"ply\")\n",
    "o3d.visualization.draw_geometries([cropped_pointcloud])"
   ]
  },
  {
   "attachments": {},
   "cell_type": "markdown",
   "id": "4b645462",
   "metadata": {},
   "source": [
    "## 6) Compute Normals"
   ]
  },
  {
   "attachments": {},
   "cell_type": "markdown",
   "id": "0b062534",
   "metadata": {},
   "source": [
    "### Compute normals and estimate average distance between points"
   ]
  },
  {
   "cell_type": "code",
   "execution_count": 4,
   "id": "e677fef8",
   "metadata": {},
   "outputs": [],
   "source": [
    "pcd = o3d.geometry.PointCloud()\n",
    "pcd.points = cropped_pointcloud.points\n",
    "pcd.colors = cropped_pointcloud.colors\n",
    "pcd.estimate_normals(search_param=o3d.geometry.KDTreeSearchParamHybrid(radius=0.1, max_nn=30))\n",
    "\n",
    "distances = pcd.compute_nearest_neighbor_distance()\n",
    "avg_dist = np.mean(distances)\n",
    "radius = 3 * avg_dist"
   ]
  },
  {
   "attachments": {},
   "cell_type": "markdown",
   "id": "8bd1d403",
   "metadata": {},
   "source": [
    "## 7) Mesh reconstruction"
   ]
  },
  {
   "attachments": {},
   "cell_type": "markdown",
   "id": "67f4fc98",
   "metadata": {},
   "source": [
    "### Ball pivoting algorithm"
   ]
  },
  {
   "cell_type": "code",
   "execution_count": 5,
   "id": "5f7341d5",
   "metadata": {},
   "outputs": [],
   "source": [
    "bpa_mesh = o3d.geometry.TriangleMesh.create_from_point_cloud_ball_pivoting(pcd, o3d.utility.DoubleVector([radius, radius * 2]))"
   ]
  },
  {
   "attachments": {},
   "cell_type": "markdown",
   "id": "ef6f8837",
   "metadata": {},
   "source": [
    "### Poisson surface reconstruction"
   ]
  },
  {
   "cell_type": "code",
   "execution_count": 9,
   "id": "7b07c72b",
   "metadata": {},
   "outputs": [
    {
     "name": "stdout",
     "output_type": "stream",
     "text": [
      "[Open3D WARNING] GLFW Error: WGL: Failed to make context current: The requested transformation operation is not supported. \n",
      "[Open3D WARNING] GLFW Error: WGL: Failed to make context current: The requested transformation operation is not supported. \n",
      "[Open3D WARNING] GLFW Error: WGL: Failed to make context current: The requested transformation operation is not supported. \n",
      "[Open3D WARNING] GLFW Error: WGL: Failed to make context current: The handle is invalid. \n",
      "[Open3D WARNING] GLFW Error: WGL: Failed to make context current: The requested transformation operation is not supported. \n",
      "[Open3D WARNING] GLFW Error: WGL: Failed to make context current: The handle is invalid. \n",
      "[Open3D WARNING] GLFW Error: WGL: Failed to make context current: The requested transformation operation is not supported. \n",
      "[Open3D WARNING] GLFW Error: WGL: Failed to make context current: The requested transformation operation is not supported. \n",
      "[Open3D WARNING] GLFW Error: WGL: Failed to make context current: The handle is invalid. \n",
      "[Open3D WARNING] GLFW Error: WGL: Failed to make context current: The requested transformation operation is not supported. \n",
      "[Open3D WARNING] GLFW Error: WGL: Failed to make context current: The handle is invalid. \n",
      "[Open3D WARNING] GLFW Error: WGL: Failed to make context current: The requested transformation operation is not supported. \n"
     ]
    }
   ],
   "source": [
    "poisson_mesh, densities = o3d.geometry.TriangleMesh.create_from_point_cloud_poisson(pcd, depth=8, width=0, scale=1.1, linear_fit=False)\n",
    "vertices_to_remove = densities < np.quantile(densities, 0.1)\n",
    "poisson_mesh.remove_vertices_by_mask(vertices_to_remove)\n",
    "o3d.visualization.draw_geometries([poisson_mesh], point_show_normal = True)"
   ]
  },
  {
   "attachments": {},
   "cell_type": "markdown",
   "id": "af06cff6",
   "metadata": {},
   "source": [
    "### Further Postprocessing to remove unecessary triangles and vertices"
   ]
  },
  {
   "cell_type": "code",
   "execution_count": 11,
   "id": "a3cb1aa2",
   "metadata": {},
   "outputs": [],
   "source": [
    "def postprocess(mesh, pcd=pcd):\n",
    "    \"\"\"simplify surface, remove degenerate triangles, vertices and non-manifold edges\"\"\"\n",
    "    mesh.compute_vertex_normals()\n",
    "    mesh = mesh.simplify_quadric_decimation(100000)\n",
    "    mesh.remove_degenerate_triangles()\n",
    "    mesh.remove_duplicated_triangles()\n",
    "    mesh.remove_duplicated_vertices()\n",
    "    mesh.remove_non_manifold_edges()\n",
    "    bbox = pcd.get_axis_aligned_bounding_box()\n",
    "    mesh = mesh.crop(bbox)\n",
    "    print(f\"Resulting mesh has: {mesh.triangles} triangles\")\n",
    "    return mesh\n",
    "\n",
    "def density_estimation(mesh):\n",
    "    \"\"\"Removes low definition areas of the mesh, NO NEED TO USE FOR NOW AS FILTERING IS DONE ABOVE\"\"\"\n",
    "    densities = np.asarray(mesh)\n",
    "    density_colours = plt.get_cmap(\"plasma\")(densities - densities.min()) /(densities.max()-densities.min())\n",
    "    density_colours = density_colours[:,:3]\n",
    "    density_mesh = o3d.geometry.TriangleMesh()\n",
    "    density_mesh.vertices = mesh.vertices\n",
    "    density_mesh.triangles = mesh.triangles\n",
    "    density_mesh.triangle_normals = mesh.triangle_normals\n",
    "    density_mesh.vertex_colors = o3d.utility.Vector3dVector(density_colours)\n",
    "    return densities\n"
   ]
  },
  {
   "attachments": {},
   "cell_type": "markdown",
   "id": "a057beec",
   "metadata": {},
   "source": [
    "### Check mesh vertices, normals"
   ]
  },
  {
   "cell_type": "code",
   "execution_count": null,
   "id": "836f5a23",
   "metadata": {},
   "outputs": [],
   "source": [
    "def check_mesh(mesh):\n",
    "    if not mesh.has_vertex_normals(): \n",
    "        print(\"No vertex normals\")   \n",
    "        mesh.compute_vertex_normals()\n",
    "    if not mesh.has_triangle_normals(): \n",
    "        print(\"No triangle normals\")\n",
    "        mesh.compute_triangle_normals()\n",
    "        sampled_points = mesh.sample_points_poisson_disk(82747)\n",
    "    print(len(mesh.vertices),len(mesh.triangles))\n",
    "\n",
    "# check_mesh(bpa_mesh)\n",
    "# check_mesh(poisson_mesh)"
   ]
  },
  {
   "cell_type": "code",
   "execution_count": 27,
   "id": "0180e4b3",
   "metadata": {},
   "outputs": [],
   "source": [
    "def surface_reconstruction(pcd, algorithm, alpha=0.03):\n",
    "    \"\"\"ALPHA SHAPES ONLY WORKS WITH TETRAMESH, WILL INSPECT SOON\"\"\"\n",
    "    methods ={\n",
    "        \"alpha_shapes\": o3d.geometry.TriangleMesh.create_from_point_cloud_alpha_shape(pcd, alpha),\n",
    "        \"ball_pivoting\": o3d.geometry.TriangleMesh.create_from_point_cloud_ball_pivoting(pcd),\n",
    "        \"poisson\": o3d.geometry.TriangleMesh.create_from_point_cloud_poisson(pcd)\n",
    "    }\n",
    "    mesh = methods[algorithm]\n",
    "    mesh.compute_vertex_normals()\n",
    "    o3d.visualization.draw_geometries([mesh], mesh_show_back_face=True)\n",
    "    return mesh"
   ]
  },
  {
   "attachments": {},
   "cell_type": "markdown",
   "id": "d990ef8a",
   "metadata": {},
   "source": [
    "### Visualise the final mesh reconstruction"
   ]
  },
  {
   "cell_type": "code",
   "execution_count": 12,
   "id": "5758e81e",
   "metadata": {},
   "outputs": [
    {
     "name": "stdout",
     "output_type": "stream",
     "text": [
      "Resulting mesh has: std::vector<Eigen::Vector3i> with 89500 elements.\n",
      "Use numpy.asarray() to access data. triangles\n",
      "[Open3D WARNING] GLFW Error: WGL: Failed to make context current: The handle is invalid. \n",
      "[Open3D WARNING] GLFW Error: WGL: Failed to make context current: The handle is invalid. \n",
      "[Open3D WARNING] GLFW Error: WGL: Failed to make context current: The handle is invalid. \n",
      "[Open3D WARNING] GLFW Error: WGL: Failed to make context current: The handle is invalid. \n",
      "[Open3D WARNING] GLFW Error: WGL: Failed to make context current: The handle is invalid. \n",
      "[Open3D WARNING] GLFW Error: WGL: Failed to make context current: The handle is invalid. \n",
      "[Open3D WARNING] GLFW Error: WGL: Failed to make context current: The handle is invalid. \n",
      "[Open3D WARNING] GLFW Error: WGL: Failed to make context current: The requested transformation operation is not supported. \n"
     ]
    }
   ],
   "source": [
    "# Visualise if postprocessing is improving the mesh \n",
    "poisson_mesh = postprocess(poisson_mesh)\n",
    "o3d.visualization.draw_geometries([poisson_mesh], point_show_normal = True)"
   ]
  },
  {
   "cell_type": "code",
   "execution_count": 7,
   "id": "54feda3e",
   "metadata": {},
   "outputs": [
    {
     "name": "stdout",
     "output_type": "stream",
     "text": [
      "[Open3D WARNING] GLFW Error: WGL: Failed to make context current: The requested transformation operation is not supported. \n",
      "[Open3D WARNING] GLFW Error: WGL: Failed to make context current: The handle is invalid. \n",
      "[Open3D WARNING] GLFW Error: WGL: Failed to make context current: The handle is invalid. \n",
      "[Open3D WARNING] GLFW Error: WGL: Failed to make context current: The handle is invalid. \n"
     ]
    }
   ],
   "source": [
    "bpa_mesh = postprocess(bpa_mesh)\n",
    "o3d.visualization.draw_geometries([bpa_mesh], point_show_normal = True)"
   ]
  },
  {
   "attachments": {},
   "cell_type": "markdown",
   "id": "7ee772fe",
   "metadata": {},
   "source": [
    "### Download or read a premade mesh, used when working with .obj files"
   ]
  },
  {
   "cell_type": "code",
   "execution_count": 4,
   "id": "fb6a6679",
   "metadata": {},
   "outputs": [],
   "source": [
    "def download_ready_mesh(url = \"./insert_url_to_your_mesh/mesh_name.obj\"):\n",
    "    import wget\n",
    "    # In case you want to download your mesh from a url\n",
    "    return wget.download(url)\n",
    "\n",
    "def read_obj_mesh(mesh =\"./ucy.obj\"):\n",
    "    pcd_mesh = o3d.io.read_triangle_mesh(mesh)\n",
    "    if pcd_mesh.is_empty(): exit()\n",
    "    else:\n",
    "        return pcd_mesh"
   ]
  },
  {
   "attachments": {},
   "cell_type": "markdown",
   "id": "f60e8e0b",
   "metadata": {},
   "source": [
    "## 8) Write files to a Excel or generate a new \".PLY\" file"
   ]
  },
  {
   "attachments": {},
   "cell_type": "markdown",
   "id": "15b5f8f7",
   "metadata": {},
   "source": [
    "### Write points to an Excel File"
   ]
  },
  {
   "cell_type": "code",
   "execution_count": 38,
   "id": "77740e53",
   "metadata": {},
   "outputs": [],
   "source": [
    "def excel_logger(file_name=\"./cropped_point_cloud.ply\", excel_file = \"light_cloud.pcd.xlsx\"):\n",
    "    \"\"\"EDIT TO INCLUDE OTHER DATA ENCODED IN THE PLY SUCH AS COLORS\"\"\"\n",
    "    pcd = o3d.io.read_point_cloud(file_name, format=\"ply\")\n",
    "    pcd_array = np.asarray(original_pointcloud.points)\n",
    "    data_transformer = pd.DataFrame(data = pcd_array, columns  = [\"X\", \"Y\", \"Z\", \"Normals_X\", \"Normals_Y\", \"Normals_Z\"], dtype=np.float32)\n",
    "    data_transformer.to_excel(excel_file)"
   ]
  },
  {
   "attachments": {},
   "cell_type": "markdown",
   "id": "2f1dd01f",
   "metadata": {},
   "source": [
    "## 9) Define a plot function for point cloud and mesh"
   ]
  },
  {
   "cell_type": "code",
   "execution_count": 16,
   "id": "d7efe2fc",
   "metadata": {},
   "outputs": [],
   "source": [
    "def draw(geometries):\n",
    "    graph_obj = []\n",
    "\n",
    "    for gm in geometries:\n",
    "        geometry_type = gm.get_geometry_type()\n",
    "        \n",
    "        if geometry_type == o3d.geometry.Geometry.Type.PointCloud:\n",
    "            pts = np.asarray(gm.points)\n",
    "            clr = None  #for colors\n",
    "            if gm.has_colors():\n",
    "                clr = np.asarray(gm.colors)\n",
    "            elif gm.has_normals():\n",
    "                clr = (0.5, 0.5, 0.5) + np.asarray(gm.normals) * 0.5\n",
    "            else:\n",
    "                gm.paint_uniform_color((1.0, 0.0, 0.0))\n",
    "                clr = np.asarray(gm.colors)\n",
    "\n",
    "            sc = go.Scatter3d(x=pts[:,0], y=pts[:,1], z=pts[:,2], mode='markers', marker=dict(size=1, color=clr))\n",
    "            graph_obj.append(sc)\n",
    "\n",
    "        if geometry_type == o3d.geometry.Geometry.Type.TriangleMesh:\n",
    "            tri = np.asarray(gm.triangles)\n",
    "            vert = np.asarray(gm.vertices)\n",
    "            clr = None\n",
    "            if gm.has_triangle_normals():\n",
    "                clr = (0.5, 0.5, 0.5) + np.asarray(gm.triangle_normals) * 0.5\n",
    "                clr = tuple(map(tuple, clr))\n",
    "            else:\n",
    "                clr = (1.0, 0.0, 0.0)\n",
    "            \n",
    "            mesh = go.Mesh3d(x=vert[:,0], y=vert[:,1], z=vert[:,2], i=tri[:,0], j=tri[:,1], k=tri[:,2], facecolor=clr, opacity=0.50)\n",
    "            graph_obj.append(mesh)\n",
    "        \n",
    "    fig = go.Figure(\n",
    "        data=graph_obj,\n",
    "        layout=dict(\n",
    "            scene=dict(\n",
    "                xaxis=dict(visible=False),\n",
    "                yaxis=dict(visible=False),\n",
    "                zaxis=dict(visible=False)\n",
    "            )\n",
    "        )\n",
    "    )\n",
    "    fig.show()"
   ]
  },
  {
   "cell_type": "code",
   "execution_count": 26,
   "id": "01e80556",
   "metadata": {},
   "outputs": [],
   "source": [
    "# o3d.visualization.draw_geometries = draw # replace function\n",
    "# o3d.visualization.draw_geometries([pcd])\n",
    "# o3d.visualization.draw_geometries([pcd_mesh])"
   ]
  }
 ],
 "metadata": {
  "kernelspec": {
   "display_name": "Python 3 (ipykernel)",
   "language": "python",
   "name": "python3"
  },
  "language_info": {
   "codemirror_mode": {
    "name": "ipython",
    "version": 3
   },
   "file_extension": ".py",
   "mimetype": "text/x-python",
   "name": "python",
   "nbconvert_exporter": "python",
   "pygments_lexer": "ipython3",
   "version": "3.9.6"
  },
  "vscode": {
   "interpreter": {
    "hash": "d5b56a78e3e75a120fd5f35cf8efed775b2ff68e364aa87bad3970e34a65f885"
   }
  }
 },
 "nbformat": 4,
 "nbformat_minor": 5
}
